{
 "cells": [
  {
   "cell_type": "markdown",
   "metadata": {},
   "source": [
    "# Warmtepomp\n",
    "Hieronder een aantal formule's en bewerkingen met Python, uit het Word document van Harm. Eenvoudig proberen op te nemen in een Jupyter notebook om de bewerkingen directer te omschrijven en de tekst in correcte statements, variabelen en grootheden te vertalen."
   ]
  },
  {
   "cell_type": "markdown",
   "metadata": {},
   "source": [
    "### Jupyter\n",
    "Jupyter is een open-source platform dat interactieve documentatie mogelijk maakt. Het is vooral populair onder datawetenschappers, onderzoekers en programmeurs. Jupyter stelt gebruikers in staat om tekst, code, en visualisaties samen in één interactief document te combineren, genaamd een Jupyter Notebook."
   ]
  },
  {
   "cell_type": "markdown",
   "metadata": {},
   "source": [
    "## Definities\n",
    "Hier volgen de definities in Python, wel \"vertaald\" naar variabel-namen die gebruikt kunnen worden in Python. 0 en 1 in Booleans False / True. Sommige namen zijn onduidelijk, ook welke eenheden/grootheden er bedoeld worden."
   ]
  },
  {
   "cell_type": "code",
   "execution_count": 123,
   "metadata": {},
   "outputs": [],
   "source": [
    "# Definities\n",
    "warmtepomp = False                  # Warmtepomp Aan/Uit \n",
    "circulatie_pomp_gebouw = False      # Circulatie pomp in Warmtepomp Aan/Uit\n",
    "circulatie_pomp_bron = False        # Idem, maar dan de circulatie_pomp_bron\n",
    "circulatie_pomp_opslag = False      # Waarschijnlijk \"opslag\" (CPopsl)?"
   ]
  },
  {
   "cell_type": "markdown",
   "metadata": {},
   "source": [
    "Deze eerste drie definities zijn duidelijk herleidbaar naar booleans Aan of Uit, in het verdere defninitie lijstje komen een aantal temeraturen voor, deze zullen waarschijnlijk een reëel getal zijn in de eenheid Celcius?"
   ]
  },
  {
   "cell_type": "code",
   "execution_count": 124,
   "metadata": {},
   "outputs": [],
   "source": [
    "# Temperaturen\n",
    "temperatuur_buiten = float(15)       # Eerste aanname, de ISA standaardtemperatuur.\n",
    "temperatuur_boiler = float(40)       # De aannames komen uit het Input lijstje (Word)\n",
    "temperatuur_toekomst = float(5)      # Gemiddelde temperatuur komende periode (TbUg)\n",
    "PCM = float(19)                      # Waar staat PCM voor? Is dit ook een temperatuur?\n",
    "PVT = float(27)                      # Wat is PVT, deze lijkt net als PCM een temperatuur?"
   ]
  },
  {
   "cell_type": "markdown",
   "metadata": {},
   "source": [
    "Ook zijn er nog wat onduidelijke variabelen. Wat betekenen deze, en is bijvoorbeeld een waarde 1 een \"Aan\"/\"True\" of iets dergelijks?"
   ]
  },
  {
   "cell_type": "code",
   "execution_count": 125,
   "metadata": {},
   "outputs": [],
   "source": [
    "warmtevraag_stooklijn = True       # Staat als 0 bij input definitie.\n",
    "terugleveren = True                 # Staat als 1 bij input definitie.\n",
    "teruglevertarief = float(0)         # Als remark niet gedefinieerd."
   ]
  },
  {
   "cell_type": "markdown",
   "metadata": {},
   "source": [
    "Er is een korte definitie die gaat over een meng- en een verdeelklep. Deze kunnen in bepaalde richtingen blijkbaar (proportioneel) open. Hoe worden deze standen onderverdeeld? Een procentuele waarde? Of bijvoorbeeld een digitale (0-254) waarde? Even voor een procentuele waarde gekozen."
   ]
  },
  {
   "cell_type": "code",
   "execution_count": 126,
   "metadata": {},
   "outputs": [],
   "source": [
    "mengklep_ac = float(0)              # Mengklep is richting A-C dicht.\n",
    "mengklep_bc = float(100)            # Mengklep is richting B-C volledig open.\n",
    "mengklep_ab = float(0)              # Mengklep is richting A-B volledig dicht.\n",
    "verdeelklep_ab = float(100)         # Verdeelklep is richting AB volledig open.\n",
    "verdeelklep_ac = float(0)           # Aanname dat er ook een verdeelklep A-C bestaat?           "
   ]
  },
  {
   "cell_type": "markdown",
   "metadata": {},
   "source": [
    "## Korte statements\n",
    "Na de definiëring van de variabelen, komen een aantal blokjes \"code\" in het Word document voor. Nog niet geheel duidelijk wat deze precies dienen te doen. Het lijkt via if-then-else statements een schakeling van de verschillende circulatiepompen te maken."
   ]
  },
  {
   "cell_type": "markdown",
   "metadata": {},
   "source": [
    "# If-Statements\n",
    "Het eerste blokje is een if-statement waarbij \"PVT\" de bron is als de warmtevraag volgens stooklijn is. Wat is dit? PVT is in eerste instantie 27, dus zal dit statement niet worden uitgevoerd. Het doel van meerdere van deze blokjes is mij onduidelijk."
   ]
  },
  {
   "cell_type": "code",
   "execution_count": 127,
   "metadata": {},
   "outputs": [],
   "source": [
    "# PVT is bron bij warmtevraag volgens stooklijn\n",
    "if warmtevraag_stooklijn and PVT<25:\n",
    "    # Warmtepomp moet aan (1)?  \n",
    "    warmtepomp = True                        # Warmtepomp aan.\n",
    "    mengklep_ac = float(100)\n",
    "    verdeelklep_ab = float(0)\n",
    "    verdeelklep_ac = float(100)\n",
    "    print(f\"Mengklep: {mengklep_ac:.2f}%\")    # Geef een float weer met 2 decimalen\n",
    "    print(f\"Warmtepomp: {warmtepomp}\")\n",
    "    print(f\"Verdeelklep A-B: {verdeelklep_ab:.2f%} en verdeelklep A-C: {verdeelklep_ac:.2f}\")"
   ]
  },
  {
   "cell_type": "markdown",
   "metadata": {},
   "source": [
    "Het tweede blokje is een typisch eender if-statement, maar gaat dan over de temperatuur PCM. Wat is PCM? Verder zijn de mogelijkheden van de mengklep onduidelijk, wat voor soort klep is dit, dan kan deze wellicht eenvoudiger/beter worden gedefinieerd in software, bijvoorbeeld een richting met een positie?"
   ]
  },
  {
   "cell_type": "code",
   "execution_count": 128,
   "metadata": {},
   "outputs": [
    {
     "name": "stdout",
     "output_type": "stream",
     "text": [
      "Mengklep A-B: 100.00%\n",
      "Warmtepomp: True\n",
      "Verdeelklep A-C: 100.00%\n"
     ]
    }
   ],
   "source": [
    "# PCM is bron bij warmtevraag volgens stooklijn\n",
    "if warmtevraag_stooklijn and PCM<25:\n",
    "    warmtepomp = True                           # Warmtepomp aan.\n",
    "    mengklep_ab = float(100)                    # Mengklep A-B volledig open.\n",
    "    verdeelklep_ac = float(100)                 # Verdeelklep A-C volledig dicht\n",
    "    # Moet verdeelklep A-B dan niet gesloten worden?\n",
    "    print(f\"Mengklep A-B: {mengklep_ab:.2f}%\")\n",
    "    print(f\"Warmtepomp: {warmtepomp}\")\n",
    "    print(f\"Verdeelklep A-C: {verdeelklep_ac:.2f}%\")"
   ]
  },
  {
   "cell_type": "markdown",
   "metadata": {},
   "source": [
    "Het derde blokje is wederom een if-statement, waarbij er proportioneel gemengd moet worden, indien de PCM temperatuur afneemt."
   ]
  },
  {
   "cell_type": "code",
   "execution_count": 129,
   "metadata": {},
   "outputs": [
    {
     "name": "stdout",
     "output_type": "stream",
     "text": [
      "Mengklep: 50.00%\n",
      "Verdeelklep A-C:100.00%\n",
      "Warmtepomp: True\n"
     ]
    }
   ],
   "source": [
    "if warmtevraag_stooklijn and PCM<20 and PVT>25:\n",
    "    warmtepomp = True               # Warmtepomp aan\n",
    "    # Hoe bepaal je de proportie van mengen in een positie van de mengklep?\n",
    "    mengklep_ac = float(50)         # Half open?\n",
    "    verdeelklep_ac = float(100)       # Verdeelklep volledig open?\n",
    "    # andere kleppen/richtingen sluiten?\n",
    "    print(f\"Mengklep: {mengklep_ac:.2f}%\")\n",
    "    print(f\"Verdeelklep A-C:{verdeelklep_ac:.2f}%\")\n",
    "    print(f\"Warmtepomp: {warmtepomp}\")"
   ]
  },
  {
   "cell_type": "code",
   "execution_count": 130,
   "metadata": {},
   "outputs": [],
   "source": [
    "# Vullen PCM via warmtepomp\n",
    "if  (not warmtevraag_stooklijn) and PCM<20 and PVT>5:\n",
    "    warmtepomp = True\n",
    "    mengklep_ac = float(100)\n",
    "    verdeelklep_ab = float(100)\n",
    "    print(f\"warmtepomp: {warmtepomp}\")\n",
    "    print(f\"Mengklep A-C: {mengklep_ac:.2f}%\")\n",
    "    print(f\"Verdeelklep A-B: {verdeelklep_ab:.2f}%\") "
   ]
  },
  {
   "cell_type": "code",
   "execution_count": 131,
   "metadata": {},
   "outputs": [],
   "source": [
    "# Vullen boiler via warmtepomp bij terugleveren net\n",
    "# Hier moet een tijdvertraging in; pendelen tegengaan.\n",
    "if not warmtevraag_stooklijn and PCM<25 and terugleveren:\n",
    "    warmtepomp = True\n",
    "    mengklep_ac = float(100)\n",
    "    verdeelklep_ab = float(100)\n",
    "    print(f\"warmtepomp: {warmtepomp}\")\n",
    "    print(f\"Mengklep A-C: {mengklep_ac:.2f}%\")\n",
    "    print(f\"Verdeelklep A-B: {verdeelklep_ab:.2f}%\")     "
   ]
  },
  {
   "cell_type": "markdown",
   "metadata": {},
   "source": [
    "Het laatste, onderstaande, if-statement heeft een erg lange conditie definitie, niet erg duidelijk wat hier nu mee beoogd word."
   ]
  },
  {
   "cell_type": "code",
   "execution_count": 132,
   "metadata": {},
   "outputs": [],
   "source": [
    "# Vullen boiler als PCM vol is en een relatief hoge buitentemperatuur\n",
    "# (Zou een algoritme moeten komen) en of PV veel levert.\n",
    "if not warmtevraag_stooklijn and PCM>25 and temperatuur_boiler<90 and terugleveren and PVT<25 and temperatuur_buiten>4 and temperatuur_toekomst<2:\n",
    "    warmtepomp = True\n",
    "    mengklep_ac = float(100)\n",
    "    verdeelklep_ab = float(0)\n",
    "    print(f\"warmtepomp: {warmtepomp}\")\n",
    "    print(f\"Mengklep A-C: {mengklep_ac:.2f}%\")\n",
    "    print(f\"Verdeelklep A-B: {verdeelklep_ab:.2f}%\")"
   ]
  },
  {
   "cell_type": "markdown",
   "metadata": {},
   "source": [
    "# Voorlopige conclusie\n",
    "De tekst is wellicht wat summier om een duidelijk beeld te krijgen hoe het systeem op dit moment geschakeld is en welke mogelijkheden de verschillende kleppen hebben. Dit zou wellicht met schema's/tekeningen verduidelijkt kunnen worden. Ook zijn niet alle variabelen duidelijk wat deze zijn (grootheid/eenheid)\n",
    "\n",
    "In alle bovenstaande if-statements staat de warmtepomp aan (True), is er een mogelijkheid dat deze uit staat?"
   ]
  }
 ],
 "metadata": {
  "kernelspec": {
   "display_name": "Python 3",
   "language": "python",
   "name": "python3"
  },
  "language_info": {
   "codemirror_mode": {
    "name": "ipython",
    "version": 3
   },
   "file_extension": ".py",
   "mimetype": "text/x-python",
   "name": "python",
   "nbconvert_exporter": "python",
   "pygments_lexer": "ipython3",
   "version": "3.12.6"
  }
 },
 "nbformat": 4,
 "nbformat_minor": 2
}
